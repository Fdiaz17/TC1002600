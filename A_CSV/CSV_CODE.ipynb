{
 "cells": [
  {
   "cell_type": "code",
   "execution_count": 7,
   "metadata": {},
   "outputs": [
    {
     "name": "stdout",
     "output_type": "stream",
     "text": [
      "     S.no.                            Name of the show  Year of release  \\\n",
      "0        1                                  Pataal Lok             2020   \n",
      "1        2                                      Upload             2020   \n",
      "2        3                   The Marvelous Mrs. Maisel             2017   \n",
      "3        4                      Four More Shots Please             2019   \n",
      "4        5                                     Fleabag             2016   \n",
      "..     ...                                         ...              ...   \n",
      "388    389                        Chris Tall Presents…             2019   \n",
      "389    390                               Short Poppies             2014   \n",
      "390    391  The 2018 Rose Parade Hosted by Cord & Tish             2018   \n",
      "391    392                 Aliens Love Underpants And…             2017   \n",
      "392    393             Gina Brillon: The Floor is Lava             2020   \n",
      "\n",
      "     No of seasons available Language          Genre  IMDb rating  \\\n",
      "0                          1    Hindi          Drama          7.5   \n",
      "1                          1  English  Sci-fi comedy          8.1   \n",
      "2                          3  English  Drama, Comedy          8.7   \n",
      "3                          2    Hindi  Drama, Comedy          5.3   \n",
      "4                          2  English         Comedy          8.7   \n",
      "..                       ...      ...            ...          ...   \n",
      "388                        1  Deutsch         Comedy          NaN   \n",
      "389                        1  English         Comedy          NaN   \n",
      "390                        1  English         Comedy          NaN   \n",
      "391                        1  English           Kids          NaN   \n",
      "392                        1  English         Comedy          NaN   \n",
      "\n",
      "    Age of viewers  \n",
      "0              18+  \n",
      "1              16+  \n",
      "2              16+  \n",
      "3              18+  \n",
      "4              18+  \n",
      "..             ...  \n",
      "388            16+  \n",
      "389            13+  \n",
      "390            All  \n",
      "391            All  \n",
      "392            16+  \n",
      "\n",
      "[393 rows x 8 columns]\n"
     ]
    }
   ],
   "source": [
    "import pandas\n",
    "base = pandas.read_csv('Prime Tv Shows.csv')\n",
    "print(base)\n"
   ]
  },
  {
   "cell_type": "code",
   "execution_count": 10,
   "metadata": {},
   "outputs": [
    {
     "name": "stdout",
     "output_type": "stream",
     "text": [
      "S.no.\n",
      "Name of the show\n",
      "Year of release\n",
      "No of seasons available\n",
      "Language\n",
      "Genre\n",
      "IMDb rating\n",
      "Age of viewers\n"
     ]
    }
   ],
   "source": [
    "i=0\n",
    "for columns in base:\n",
    "    print (base.columns[i])\n",
    "    i=i+1"
   ]
  },
  {
   "cell_type": "code",
   "execution_count": 22,
   "metadata": {},
   "outputs": [
    {
     "data": {
      "text/plain": [
       "count     393.000000\n",
       "mean     2011.274809\n",
       "std        12.943787\n",
       "min      1926.000000\n",
       "25%      2011.000000\n",
       "50%      2016.000000\n",
       "75%      2018.000000\n",
       "max      2020.000000\n",
       "Name: Year of release, dtype: float64"
      ]
     },
     "execution_count": 22,
     "metadata": {},
     "output_type": "execute_result"
    }
   ],
   "source": [
    "base['Year of release'].describe()"
   ]
  },
  {
   "cell_type": "code",
   "execution_count": 23,
   "metadata": {},
   "outputs": [
    {
     "data": {
      "text/plain": [
       "count    393.000000\n",
       "mean       2.608142\n",
       "std        2.592008\n",
       "min        1.000000\n",
       "25%        1.000000\n",
       "50%        2.000000\n",
       "75%        3.000000\n",
       "max       20.000000\n",
       "Name: No of seasons available, dtype: float64"
      ]
     },
     "execution_count": 23,
     "metadata": {},
     "output_type": "execute_result"
    }
   ],
   "source": [
    "base['No of seasons available'].describe()"
   ]
  },
  {
   "cell_type": "code",
   "execution_count": 24,
   "metadata": {},
   "outputs": [
    {
     "data": {
      "text/plain": [
       "count    223.000000\n",
       "mean       7.390583\n",
       "std        0.917130\n",
       "min        3.700000\n",
       "25%        6.900000\n",
       "50%        7.500000\n",
       "75%        8.000000\n",
       "max        9.500000\n",
       "Name: IMDb rating, dtype: float64"
      ]
     },
     "execution_count": 24,
     "metadata": {},
     "output_type": "execute_result"
    }
   ],
   "source": [
    "base['IMDb rating'].describe()"
   ]
  },
  {
   "cell_type": "code",
   "execution_count": 27,
   "metadata": {},
   "outputs": [
    {
     "data": {
      "text/html": [
       "<div>\n",
       "<style scoped>\n",
       "    .dataframe tbody tr th:only-of-type {\n",
       "        vertical-align: middle;\n",
       "    }\n",
       "\n",
       "    .dataframe tbody tr th {\n",
       "        vertical-align: top;\n",
       "    }\n",
       "\n",
       "    .dataframe thead th {\n",
       "        text-align: right;\n",
       "    }\n",
       "</style>\n",
       "<table border=\"1\" class=\"dataframe\">\n",
       "  <thead>\n",
       "    <tr style=\"text-align: right;\">\n",
       "      <th></th>\n",
       "      <th>S.no.</th>\n",
       "      <th>Year of release</th>\n",
       "      <th>No of seasons available</th>\n",
       "      <th>IMDb rating</th>\n",
       "    </tr>\n",
       "  </thead>\n",
       "  <tbody>\n",
       "    <tr>\n",
       "      <th>count</th>\n",
       "      <td>393.000000</td>\n",
       "      <td>393.000000</td>\n",
       "      <td>393.000000</td>\n",
       "      <td>223.000000</td>\n",
       "    </tr>\n",
       "    <tr>\n",
       "      <th>mean</th>\n",
       "      <td>197.000000</td>\n",
       "      <td>2011.274809</td>\n",
       "      <td>2.608142</td>\n",
       "      <td>7.390583</td>\n",
       "    </tr>\n",
       "    <tr>\n",
       "      <th>std</th>\n",
       "      <td>113.593574</td>\n",
       "      <td>12.943787</td>\n",
       "      <td>2.592008</td>\n",
       "      <td>0.917130</td>\n",
       "    </tr>\n",
       "    <tr>\n",
       "      <th>min</th>\n",
       "      <td>1.000000</td>\n",
       "      <td>1926.000000</td>\n",
       "      <td>1.000000</td>\n",
       "      <td>3.700000</td>\n",
       "    </tr>\n",
       "    <tr>\n",
       "      <th>25%</th>\n",
       "      <td>99.000000</td>\n",
       "      <td>2011.000000</td>\n",
       "      <td>1.000000</td>\n",
       "      <td>6.900000</td>\n",
       "    </tr>\n",
       "    <tr>\n",
       "      <th>50%</th>\n",
       "      <td>197.000000</td>\n",
       "      <td>2016.000000</td>\n",
       "      <td>2.000000</td>\n",
       "      <td>7.500000</td>\n",
       "    </tr>\n",
       "    <tr>\n",
       "      <th>75%</th>\n",
       "      <td>295.000000</td>\n",
       "      <td>2018.000000</td>\n",
       "      <td>3.000000</td>\n",
       "      <td>8.000000</td>\n",
       "    </tr>\n",
       "    <tr>\n",
       "      <th>max</th>\n",
       "      <td>393.000000</td>\n",
       "      <td>2020.000000</td>\n",
       "      <td>20.000000</td>\n",
       "      <td>9.500000</td>\n",
       "    </tr>\n",
       "  </tbody>\n",
       "</table>\n",
       "</div>"
      ],
      "text/plain": [
       "            S.no.  Year of release  No of seasons available  IMDb rating\n",
       "count  393.000000       393.000000               393.000000   223.000000\n",
       "mean   197.000000      2011.274809                 2.608142     7.390583\n",
       "std    113.593574        12.943787                 2.592008     0.917130\n",
       "min      1.000000      1926.000000                 1.000000     3.700000\n",
       "25%     99.000000      2011.000000                 1.000000     6.900000\n",
       "50%    197.000000      2016.000000                 2.000000     7.500000\n",
       "75%    295.000000      2018.000000                 3.000000     8.000000\n",
       "max    393.000000      2020.000000                20.000000     9.500000"
      ]
     },
     "execution_count": 27,
     "metadata": {},
     "output_type": "execute_result"
    }
   ],
   "source": [
    "base.describe()"
   ]
  },
  {
   "cell_type": "code",
   "execution_count": null,
   "metadata": {},
   "outputs": [],
   "source": []
  }
 ],
 "metadata": {
  "kernelspec": {
   "display_name": "Python 3",
   "language": "python",
   "name": "python3"
  },
  "language_info": {
   "codemirror_mode": {
    "name": "ipython",
    "version": 3
   },
   "file_extension": ".py",
   "mimetype": "text/x-python",
   "name": "python",
   "nbconvert_exporter": "python",
   "pygments_lexer": "ipython3",
   "version": "3.8.5"
  }
 },
 "nbformat": 4,
 "nbformat_minor": 4
}
