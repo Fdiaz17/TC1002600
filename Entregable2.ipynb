{
 "cells": [
  {
   "cell_type": "markdown",
   "metadata": {},
   "source": [
    "# Entregable 2. Obtención de Estadísticas Descriptivas"
   ]
  },
  {
   "cell_type": "markdown",
   "metadata": {},
   "source": [
    "Equipo 6:"
   ]
  },
  {
   "cell_type": "markdown",
   "metadata": {},
   "source": [
    "A01706095 - Naomi Estefanía Nieto Vega"
   ]
  },
  {
   "cell_type": "markdown",
   "metadata": {},
   "source": [
    "A01706189 - Alejandro Angel Calderon Berges "
   ]
  },
  {
   "cell_type": "markdown",
   "metadata": {},
   "source": [
    "A01706596 - Carlos Soria de la Cabada"
   ]
  },
  {
   "cell_type": "markdown",
   "metadata": {},
   "source": [
    "Paso 1. Cargar los datos de nuestra base de datos con ayuda de pandas"
   ]
  },
  {
   "cell_type": "markdown",
   "metadata": {},
   "source": [
    "En esta sección únicamente se leen los datos, como podemos ver es acerca de unos artículos publicados en la web."
   ]
  },
  {
   "cell_type": "code",
   "execution_count": 41,
   "metadata": {},
   "outputs": [
    {
     "name": "stdout",
     "output_type": "stream",
     "text": [
      "                                                 Title  \\\n",
      "0    What is Machine Learning and how do we use it ...   \n",
      "1     10 Companies Using Machine Learning in Cool Ways   \n",
      "2    How Artificial Intelligence Is Revolutionizing...   \n",
      "3    Dbrain and the Blockchain of Artificial Intell...   \n",
      "4    Nasa finds entire solar system filled with eig...   \n",
      "..                                                 ...   \n",
      "156  [Log] 83: How Google Uses Machine Learning And...   \n",
      "157  [Log] 84: Zuck Knows If You've Been Bad Or Goo...   \n",
      "158  [Log] 85: Microsoft Improves Windows Phone Voi...   \n",
      "159  [Log] 86: How Google's Acquisition Of DNNresea...   \n",
      "160   [Log] 87: Google's Cloud Is Eating Apple's Lunch   \n",
      "\n",
      "                                                   url  Word count  \\\n",
      "0    https://blog.signals.network/what-is-machine-l...        1888   \n",
      "1                                                  NaN        1742   \n",
      "2                                                  NaN         962   \n",
      "3                                                  NaN        1221   \n",
      "4                                                  NaN        2039   \n",
      "..                                                 ...         ...   \n",
      "156  [Log] 83: http://feedproxy.google.com/~r/Techc...        3239   \n",
      "157  [Log] 84: http://feedproxy.google.com/~r/Techc...        2566   \n",
      "158  [Log] 85: http://feedproxy.google.com/~r/Techc...        2089   \n",
      "159  [Log] 86: http://feedproxy.google.com/~r/Techc...        1530   \n",
      "160  [Log] 87: http://feedproxy.google.com/~r/Techc...         953   \n",
      "\n",
      "     # of Links  # of comments  # Images video  Elapsed days  # Shares  \n",
      "0             1            2.0               2            34    200000  \n",
      "1             9            NaN               9             5     25000  \n",
      "2             6            0.0               1            10     42000  \n",
      "3             3            NaN               2            68    200000  \n",
      "4             1          104.0               4           131    200000  \n",
      "..          ...            ...             ...           ...       ...  \n",
      "156           3           11.0               1            84      3239  \n",
      "157           3            8.0               4            85     25019  \n",
      "158           4            4.0               1            86     49614  \n",
      "159           4           12.0               3            87     33660  \n",
      "160           6           13.0               2            88      5956  \n",
      "\n",
      "[161 rows x 8 columns]\n"
     ]
    }
   ],
   "source": [
    "import pandas as pd #Aqui importamos la libreria\n",
    "import csv\n",
    "\n",
    "df=pd.read_csv(\"articulos_ml.csv\") #Aqui leemos el archivo\n",
    "print(df) "
   ]
  },
  {
   "cell_type": "code",
   "execution_count": 2,
   "metadata": {
    "scrolled": true
   },
   "outputs": [
    {
     "data": {
      "text/html": [
       "<div>\n",
       "<style scoped>\n",
       "    .dataframe tbody tr th:only-of-type {\n",
       "        vertical-align: middle;\n",
       "    }\n",
       "\n",
       "    .dataframe tbody tr th {\n",
       "        vertical-align: top;\n",
       "    }\n",
       "\n",
       "    .dataframe thead th {\n",
       "        text-align: right;\n",
       "    }\n",
       "</style>\n",
       "<table border=\"1\" class=\"dataframe\">\n",
       "  <thead>\n",
       "    <tr style=\"text-align: right;\">\n",
       "      <th></th>\n",
       "      <th>Word count</th>\n",
       "      <th># of Links</th>\n",
       "      <th># of comments</th>\n",
       "      <th># Images video</th>\n",
       "      <th>Elapsed days</th>\n",
       "      <th># Shares</th>\n",
       "    </tr>\n",
       "  </thead>\n",
       "  <tbody>\n",
       "    <tr>\n",
       "      <th>count</th>\n",
       "      <td>161.000000</td>\n",
       "      <td>161.000000</td>\n",
       "      <td>129.000000</td>\n",
       "      <td>161.000000</td>\n",
       "      <td>161.000000</td>\n",
       "      <td>161.000000</td>\n",
       "    </tr>\n",
       "    <tr>\n",
       "      <th>mean</th>\n",
       "      <td>1808.260870</td>\n",
       "      <td>9.739130</td>\n",
       "      <td>8.782946</td>\n",
       "      <td>3.670807</td>\n",
       "      <td>98.124224</td>\n",
       "      <td>27948.347826</td>\n",
       "    </tr>\n",
       "    <tr>\n",
       "      <th>std</th>\n",
       "      <td>1141.919385</td>\n",
       "      <td>47.271625</td>\n",
       "      <td>13.142822</td>\n",
       "      <td>3.418290</td>\n",
       "      <td>114.337535</td>\n",
       "      <td>43408.006839</td>\n",
       "    </tr>\n",
       "    <tr>\n",
       "      <th>min</th>\n",
       "      <td>250.000000</td>\n",
       "      <td>0.000000</td>\n",
       "      <td>0.000000</td>\n",
       "      <td>1.000000</td>\n",
       "      <td>1.000000</td>\n",
       "      <td>0.000000</td>\n",
       "    </tr>\n",
       "    <tr>\n",
       "      <th>25%</th>\n",
       "      <td>990.000000</td>\n",
       "      <td>3.000000</td>\n",
       "      <td>2.000000</td>\n",
       "      <td>1.000000</td>\n",
       "      <td>31.000000</td>\n",
       "      <td>2800.000000</td>\n",
       "    </tr>\n",
       "    <tr>\n",
       "      <th>50%</th>\n",
       "      <td>1674.000000</td>\n",
       "      <td>5.000000</td>\n",
       "      <td>6.000000</td>\n",
       "      <td>3.000000</td>\n",
       "      <td>62.000000</td>\n",
       "      <td>16458.000000</td>\n",
       "    </tr>\n",
       "    <tr>\n",
       "      <th>75%</th>\n",
       "      <td>2369.000000</td>\n",
       "      <td>7.000000</td>\n",
       "      <td>12.000000</td>\n",
       "      <td>5.000000</td>\n",
       "      <td>124.000000</td>\n",
       "      <td>35691.000000</td>\n",
       "    </tr>\n",
       "    <tr>\n",
       "      <th>max</th>\n",
       "      <td>8401.000000</td>\n",
       "      <td>600.000000</td>\n",
       "      <td>104.000000</td>\n",
       "      <td>22.000000</td>\n",
       "      <td>1002.000000</td>\n",
       "      <td>350000.000000</td>\n",
       "    </tr>\n",
       "  </tbody>\n",
       "</table>\n",
       "</div>"
      ],
      "text/plain": [
       "        Word count  # of Links  # of comments  # Images video  Elapsed days  \\\n",
       "count   161.000000  161.000000     129.000000      161.000000    161.000000   \n",
       "mean   1808.260870    9.739130       8.782946        3.670807     98.124224   \n",
       "std    1141.919385   47.271625      13.142822        3.418290    114.337535   \n",
       "min     250.000000    0.000000       0.000000        1.000000      1.000000   \n",
       "25%     990.000000    3.000000       2.000000        1.000000     31.000000   \n",
       "50%    1674.000000    5.000000       6.000000        3.000000     62.000000   \n",
       "75%    2369.000000    7.000000      12.000000        5.000000    124.000000   \n",
       "max    8401.000000  600.000000     104.000000       22.000000   1002.000000   \n",
       "\n",
       "            # Shares  \n",
       "count     161.000000  \n",
       "mean    27948.347826  \n",
       "std     43408.006839  \n",
       "min         0.000000  \n",
       "25%      2800.000000  \n",
       "50%     16458.000000  \n",
       "75%     35691.000000  \n",
       "max    350000.000000  "
      ]
     },
     "execution_count": 2,
     "metadata": {},
     "output_type": "execute_result"
    }
   ],
   "source": [
    "import pandas as pd #Aqui importamos la libreria\n",
    "import csv\n",
    "\n",
    "df=pd.read_csv(\"articulos_ml.csv\") #Aqui leemos el archivo\n",
    "df.describe() #Aqui le decimos que nos muestre los analiticos en la tabla de abajo"
   ]
  },
  {
   "cell_type": "markdown",
   "metadata": {
    "scrolled": true
   },
   "source": [
    "Paso 2. Verificar la cantidad de datos, las variables que contiene cada vector de datos e identifica el tipo de variables."
   ]
  },
  {
   "cell_type": "markdown",
   "metadata": {},
   "source": [
    "En general tenemos 162 datos, de los cuales existen las variables o columas con datos de cantidad de palabras, número de links, número de comentarios, número de imagénes de video, días transcurridos y cantidad de veces que ha sido compartido."
   ]
  },
  {
   "cell_type": "markdown",
   "metadata": {},
   "source": [
    "El tipo de las variables es float en su mayoría."
   ]
  },
  {
   "cell_type": "markdown",
   "metadata": {},
   "source": [
    "Paso 3. Analizar las variables para saber que representa cada una y en que rangos se encuentran. "
   ]
  },
  {
   "cell_type": "markdown",
   "metadata": {},
   "source": [
    "En este caso las variables como ya mencioné antes representan una cantidad de las veces que ha ocurrido un evento, que bien puede ser compartir, comentar, etc. Los rangos para cada variable son los siguientes:"
   ]
  },
  {
   "cell_type": "code",
   "execution_count": 38,
   "metadata": {
    "scrolled": false
   },
   "outputs": [
    {
     "name": "stdout",
     "output_type": "stream",
     "text": [
      "             Variables  Min Range  Max Range\n",
      "0           word count        250       8401\n",
      "1         num of links          0        600\n",
      "2      num of comments          0        104\n",
      "3  num of images video          1         22\n",
      "4         elapsed days          1       1002\n",
      "5        num of shares          0     350000\n"
     ]
    }
   ],
   "source": [
    "import pandas as pd #Importamos de nuevo la librería para este fragmento de código.\n",
    "\n",
    "# initialize list of lists \n",
    "data = [['word count', 250, 8401],['num of links', 0, 600],['num of comments', 0, 104],['num of images video', 1, 22],['elapsed days', 1, 1002],['num of shares', 0, 350000]] \n",
    "  \n",
    "# Create the pandas DataFrame \n",
    "df = pd.DataFrame(data, columns = ['Variables', 'Min Range','Max Range']) \n",
    "  \n",
    "# print dataframe. \n",
    "print(df)"
   ]
  },
  {
   "cell_type": "markdown",
   "metadata": {},
   "source": [
    "Paso 4. Conclusiones"
   ]
  },
  {
   "cell_type": "code",
   "execution_count": 40,
   "metadata": {},
   "outputs": [
    {
     "name": "stdout",
     "output_type": "stream",
     "text": [
      "             Variables  count          mean           std\n",
      "0           word count  161.0   1808.260870   1141.919385\n",
      "1         num of links  161.0      9.739130     47.271625\n",
      "2      num of comments  129.0      8.782946     13.142822\n",
      "3  num of images video  161.0      3.670807      3.418290\n",
      "4         elapsed days  161.0     98.124224    114.337535\n",
      "5        num of shares  161.0  27948.347826  43408.006839\n"
     ]
    }
   ],
   "source": [
    "import pandas as pd #Aqui importamos la libreria\n",
    "\n",
    "data = [['word count',161.000000,1808.260870,1141.919385],\n",
    "        ['num of links',161.000000,9.739130,47.271625],\n",
    "        ['num of comments',129.000000,8.782946,13.142822],\n",
    "        ['num of images video',161.000000,3.670807,3.418290],\n",
    "        ['elapsed days',161.000000,98.124224,114.337535],\n",
    "        ['num of shares',161.000000,27948.347826,43408.006839]]\n",
    "\n",
    "df = pd.DataFrame(data, columns = ['Variables', 'count','mean','std']) \n",
    "print(df)"
   ]
  },
  {
   "cell_type": "markdown",
   "metadata": {},
   "source": [
    "Como conclusión de acuerdo a las variables podemos asumir que hay un promedio de cantidad de veces que se comparte un artículo bastante alto, siendo este de 27,948; esto podría decirnos que a la mayoría de los usuarios que interactuan les gusta ese artículo. Además es importante observar que tenemos un número alto en la desviación estándar esto quiere decir que existe una gran dispersión en la población de los datos con respecto a la media. La cuenta en general para las variables es de 161, a excepción de la cantidad de comentarios que es de 129. Asimismo tenemos una media aritmética de 1808, esto es la cantidad promedio de palabras que están escritas en los artículos."
   ]
  },
  {
   "cell_type": "code",
   "execution_count": null,
   "metadata": {},
   "outputs": [],
   "source": []
  }
 ],
 "metadata": {
  "kernelspec": {
   "display_name": "Python 3",
   "language": "python",
   "name": "python3"
  },
  "language_info": {
   "codemirror_mode": {
    "name": "ipython",
    "version": 3
   },
   "file_extension": ".py",
   "mimetype": "text/x-python",
   "name": "python",
   "nbconvert_exporter": "python",
   "pygments_lexer": "ipython3",
   "version": "3.8.5"
  }
 },
 "nbformat": 4,
 "nbformat_minor": 4
}
